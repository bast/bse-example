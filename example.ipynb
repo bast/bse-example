{
 "cells": [
  {
   "cell_type": "code",
   "execution_count": 2,
   "metadata": {},
   "outputs": [],
   "source": [
    "import basis_set_exchange\n",
    "import json"
   ]
  },
  {
   "cell_type": "markdown",
   "metadata": {},
   "source": [
    "# References\n",
    "\n",
    "- https://github.com/MolSSI-BSE/basis_set_exchange\n",
    "- https://molssi-bse.github.io/basis_set_exchange/usage.html"
   ]
  },
  {
   "cell_type": "code",
   "execution_count": 3,
   "metadata": {
    "scrolled": false
   },
   "outputs": [
    {
     "name": "stdout",
     "output_type": "stream",
     "text": [
      "C     0\n",
      "S   9   1.00\n",
      "      6.665000D+03           6.920000D-04\n",
      "      1.000000D+03           5.329000D-03\n",
      "      2.280000D+02           2.707700D-02\n",
      "      6.471000D+01           1.017180D-01\n",
      "      2.106000D+01           2.747400D-01\n",
      "      7.495000D+00           4.485640D-01\n",
      "      2.797000D+00           2.850740D-01\n",
      "      5.215000D-01           1.520400D-02\n",
      "      1.596000D-01          -3.191000D-03\n",
      "S   9   1.00\n",
      "      6.665000D+03          -1.460000D-04\n",
      "      1.000000D+03          -1.154000D-03\n",
      "      2.280000D+02          -5.725000D-03\n",
      "      6.471000D+01          -2.331200D-02\n",
      "      2.106000D+01          -6.395500D-02\n",
      "      7.495000D+00          -1.499810D-01\n",
      "      2.797000D+00          -1.272620D-01\n",
      "      5.215000D-01           5.445290D-01\n",
      "      1.596000D-01           5.804960D-01\n",
      "S   1   1.00\n",
      "      1.596000D-01           1.000000D+00\n",
      "P   4   1.00\n",
      "      9.439000D+00           3.810900D-02\n",
      "      2.002000D+00           2.094800D-01\n",
      "      5.456000D-01           5.085570D-01\n",
      "      1.517000D-01           4.688420D-01\n",
      "P   1   1.00\n",
      "      1.517000D-01           1.000000D+00\n",
      "D   1   1.00\n",
      "      5.500000D-01           1.0000000\n",
      "****\n",
      "O     0\n",
      "S   9   1.00\n",
      "      1.172000D+04           7.100000D-04\n",
      "      1.759000D+03           5.470000D-03\n",
      "      4.008000D+02           2.783700D-02\n",
      "      1.137000D+02           1.048000D-01\n",
      "      3.703000D+01           2.830620D-01\n",
      "      1.327000D+01           4.487190D-01\n",
      "      5.025000D+00           2.709520D-01\n",
      "      1.013000D+00           1.545800D-02\n",
      "      3.023000D-01          -2.585000D-03\n",
      "S   9   1.00\n",
      "      1.172000D+04          -1.600000D-04\n",
      "      1.759000D+03          -1.263000D-03\n",
      "      4.008000D+02          -6.267000D-03\n",
      "      1.137000D+02          -2.571600D-02\n",
      "      3.703000D+01          -7.092400D-02\n",
      "      1.327000D+01          -1.654110D-01\n",
      "      5.025000D+00          -1.169550D-01\n",
      "      1.013000D+00           5.573680D-01\n",
      "      3.023000D-01           5.727590D-01\n",
      "S   1   1.00\n",
      "      3.023000D-01           1.000000D+00\n",
      "P   4   1.00\n",
      "      1.770000D+01           4.301800D-02\n",
      "      3.854000D+00           2.289130D-01\n",
      "      1.046000D+00           5.087280D-01\n",
      "      2.753000D-01           4.605310D-01\n",
      "P   1   1.00\n",
      "      2.753000D-01           1.000000D+00\n",
      "D   1   1.00\n",
      "      1.185000D+00           1.0000000\n",
      "****\n",
      "\n"
     ]
    }
   ],
   "source": [
    "bs_str = basis_set_exchange.get_basis('cc-pVDZ', elements=[6, 8], fmt='gaussian94', header=False)\n",
    "print(bs_str)"
   ]
  },
  {
   "cell_type": "code",
   "execution_count": 4,
   "metadata": {},
   "outputs": [
    {
     "name": "stdout",
     "output_type": "stream",
     "text": [
      "['6.665000E+03', '1.000000E+03', '2.280000E+02', '6.471000E+01', '2.106000E+01', '7.495000E+00', '2.797000E+00', '5.215000E-01', '1.596000E-01']\n",
      "['9.439000E+00', '2.002000E+00', '5.456000E-01', '1.517000E-01']\n",
      "['5.500000E-01']\n"
     ]
    }
   ],
   "source": [
    "bs_str = basis_set_exchange.get_basis('cc-pVDZ', elements=[6, 8], fmt='json', header=False)\n",
    "data = json.loads(bs_str)\n",
    "for shell in data['basis_set_elements']['6']['element_electron_shells']:\n",
    "    print(shell['shell_exponents'])"
   ]
  }
 ],
 "metadata": {
  "kernelspec": {
   "display_name": "Python 3",
   "language": "python",
   "name": "python3"
  },
  "language_info": {
   "codemirror_mode": {
    "name": "ipython",
    "version": 3
   },
   "file_extension": ".py",
   "mimetype": "text/x-python",
   "name": "python",
   "nbconvert_exporter": "python",
   "pygments_lexer": "ipython3",
   "version": "3.7.2"
  }
 },
 "nbformat": 4,
 "nbformat_minor": 2
}
